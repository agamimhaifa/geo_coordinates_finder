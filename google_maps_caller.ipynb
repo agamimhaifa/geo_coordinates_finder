{
 "cells": [
  {
   "cell_type": "code",
   "execution_count": 4,
   "metadata": {},
   "outputs": [],
   "source": [
    "from geo_converter import Converters \n",
    "import requests"
   ]
  },
  {
   "cell_type": "code",
   "execution_count": 10,
   "metadata": {},
   "outputs": [],
   "source": [
    "import requests\n",
    "\n",
    "# Hotel name for which you want to retrieve the address\n",
    "addr_name = 'מחניים 20'\n",
    "hotel_city = 'חיפה'\n",
    "\n",
    "#addr_name = 'מלון דן'\n",
    "#hotel_city = 'אילת'\n",
    "\n",
    "#addr_name = 'קראון פלאזה'\n",
    "#hotel_city = 'חיפה'"
   ]
  },
  {
   "cell_type": "code",
   "execution_count": 11,
   "metadata": {},
   "outputs": [],
   "source": [
    "# Make the API request to Nominatim\n",
    "base_url = \"https://nominatim.openstreetmap.org/search\"\n",
    "params = {\n",
    "    \"q\": addr_name + ' ' + hotel_city,\n",
    "    \"format\": \"json\"\n",
    "}"
   ]
  },
  {
   "cell_type": "code",
   "execution_count": 12,
   "metadata": {},
   "outputs": [
    {
     "data": {
      "text/plain": [
       "{'q': 'מחניים 20 חיפה', 'format': 'json'}"
      ]
     },
     "execution_count": 12,
     "metadata": {},
     "output_type": "execute_result"
    }
   ],
   "source": [
    "params"
   ]
  },
  {
   "cell_type": "code",
   "execution_count": 15,
   "metadata": {},
   "outputs": [],
   "source": [
    "response = requests.get(base_url, params=params)"
   ]
  },
  {
   "cell_type": "code",
   "execution_count": 16,
   "metadata": {},
   "outputs": [
    {
     "data": {
      "text/plain": [
       "[{'place_id': 218180082,\n",
       "  'licence': 'Data © OpenStreetMap contributors, ODbL 1.0. http://osm.org/copyright',\n",
       "  'osm_type': 'way',\n",
       "  'osm_id': 154715322,\n",
       "  'lat': '32.8035311',\n",
       "  'lon': '34.9861272',\n",
       "  'class': 'highway',\n",
       "  'type': 'residential',\n",
       "  'place_rank': 26,\n",
       "  'importance': 0.10000999999999993,\n",
       "  'addresstype': 'road',\n",
       "  'name': 'מחניים',\n",
       "  'display_name': 'מחניים, מרכז הכרמל, רובע הכרמל, חיפה, נפת חיפה, מחוז חיפה, 3463626, ישראל',\n",
       "  'boundingbox': ['32.8033739', '32.8035887', '34.9859094', '34.9866795']}]"
      ]
     },
     "execution_count": 16,
     "metadata": {},
     "output_type": "execute_result"
    }
   ],
   "source": [
    "response.json()"
   ]
  },
  {
   "cell_type": "code",
   "execution_count": 17,
   "metadata": {},
   "outputs": [
    {
     "name": "stdout",
     "output_type": "stream",
     "text": [
      "Latitude: 32.8035311, Longitude: 34.9861272\n",
      "Address: מחניים, מרכז הכרמל, רובע הכרמל, חיפה, נפת חיפה, מחוז חיפה, 3463626, ישראל\n"
     ]
    }
   ],
   "source": [
    "# Check if the request was successful\n",
    "if response.status_code == 200:\n",
    "    data = response.json()\n",
    "    if data:\n",
    "        # Extract the latitude and longitude from the first result\n",
    "        latitude = data[0]['lat']\n",
    "        longitude = data[0]['lon']\n",
    "        address = data[0]['display_name']\n",
    "        print(f'Latitude: {latitude}, Longitude: {longitude}')\n",
    "        print(f'Address: {address}')\n",
    "    else:\n",
    "        print('Location not found.')\n",
    "else:\n",
    "    print('API request failed.')\n"
   ]
  },
  {
   "cell_type": "code",
   "execution_count": 18,
   "metadata": {},
   "outputs": [
    {
     "name": "stdout",
     "output_type": "stream",
     "text": [
      "Latitude: 32.8035311, Longitude: 34.9861272\n",
      "Converting GEO to ITM\n",
      "WGS84 to ITM: North: 745440, East: 199002\n"
     ]
    }
   ],
   "source": [
    "converters = Converters()\n",
    "\n",
    "# Check if the request was successful\n",
    "if response.status_code == 200:\n",
    "    data = response.json()\n",
    "    if data:\n",
    "        # Extract the latitude and longitude from the first result\n",
    "        geolatitude = data[0]['lat']\n",
    "        geolongitude = data[0]['lon']\n",
    "        print(f'Latitude: {geolatitude}, Longitude: {geolongitude}')\n",
    "        wgs84_lat = geolatitude\n",
    "        wgs84_lon = geolongitude\n",
    "        print(f\"Converting GEO to ITM\")\n",
    "        N, E = converters.wgs842itm(float(wgs84_lat), float(wgs84_lon))        \n",
    "        print(f\"WGS84 to ITM: North: {N}, East: {E}\")\n",
    "    else:\n",
    "        print('Location not found.')\n",
    "else:\n",
    "    print('API request failed.')"
   ]
  }
 ],
 "metadata": {
  "kernelspec": {
   "display_name": "Python 3",
   "language": "python",
   "name": "python3"
  },
  "language_info": {
   "codemirror_mode": {
    "name": "ipython",
    "version": 3
   },
   "file_extension": ".py",
   "mimetype": "text/x-python",
   "name": "python",
   "nbconvert_exporter": "python",
   "pygments_lexer": "ipython3",
   "version": "3.11.6"
  }
 },
 "nbformat": 4,
 "nbformat_minor": 2
}
