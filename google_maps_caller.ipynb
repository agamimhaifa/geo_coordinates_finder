{
 "cells": [
  {
   "cell_type": "code",
   "execution_count": 52,
   "metadata": {},
   "outputs": [],
   "source": [
    "from geo_converter import Converters \n",
    "import requests"
   ]
  },
  {
   "cell_type": "code",
   "execution_count": 53,
   "metadata": {},
   "outputs": [],
   "source": [
    "import requests\n",
    "\n",
    "# Hotel name for which you want to retrieve the address\n",
    "hotel_name = 'קראון פלאזה'\n",
    "hotel_city = 'חיפה'"
   ]
  },
  {
   "cell_type": "code",
   "execution_count": 54,
   "metadata": {},
   "outputs": [],
   "source": [
    "# Make the API request to Nominatim\n",
    "base_url = \"https://nominatim.openstreetmap.org/search\"\n",
    "params = {\n",
    "    \"q\": hotel_name + ' ' + hotel_city,\n",
    "    \"format\": \"json\"\n",
    "}"
   ]
  },
  {
   "cell_type": "code",
   "execution_count": 55,
   "metadata": {},
   "outputs": [
    {
     "data": {
      "text/plain": [
       "{'q': 'קראון פלאזה חיפה', 'format': 'json'}"
      ]
     },
     "execution_count": 55,
     "metadata": {},
     "output_type": "execute_result"
    }
   ],
   "source": [
    "params"
   ]
  },
  {
   "cell_type": "code",
   "execution_count": 56,
   "metadata": {},
   "outputs": [],
   "source": [
    "response = requests.get(base_url, params=params)"
   ]
  },
  {
   "cell_type": "code",
   "execution_count": 57,
   "metadata": {},
   "outputs": [
    {
     "data": {
      "text/plain": [
       "[{'place_id': 217469999,\n",
       "  'licence': 'Data © OpenStreetMap contributors, ODbL 1.0. http://osm.org/copyright',\n",
       "  'osm_type': 'way',\n",
       "  'osm_id': 135410146,\n",
       "  'lat': '32.804767350000006',\n",
       "  'lon': '34.99030725',\n",
       "  'class': 'building',\n",
       "  'type': 'hotel',\n",
       "  'place_rank': 30,\n",
       "  'importance': 9.99999999995449e-06,\n",
       "  'addresstype': 'building',\n",
       "  'name': 'קראון פלאזה',\n",
       "  'display_name': 'קראון פלאזה, 111, יפה נוף, מרכז הכרמל, רובע הכרמל, חיפה, נפת חיפה, מחוז חיפה, 3463626, ישראל',\n",
       "  'boundingbox': ['32.8044693', '32.8050654', '34.9899298', '34.9906847']}]"
      ]
     },
     "execution_count": 57,
     "metadata": {},
     "output_type": "execute_result"
    }
   ],
   "source": [
    "response.json()"
   ]
  },
  {
   "cell_type": "code",
   "execution_count": 58,
   "metadata": {},
   "outputs": [
    {
     "name": "stdout",
     "output_type": "stream",
     "text": [
      "Latitude: 32.804767350000006, Longitude: 34.99030725\n",
      "Address: קראון פלאזה, 111, יפה נוף, מרכז הכרמל, רובע הכרמל, חיפה, נפת חיפה, מחוז חיפה, 3463626, ישראל\n"
     ]
    }
   ],
   "source": [
    "# Check if the request was successful\n",
    "if response.status_code == 200:\n",
    "    data = response.json()\n",
    "    if data:\n",
    "        # Extract the latitude and longitude from the first result\n",
    "        latitude = data[0]['lat']\n",
    "        longitude = data[0]['lon']\n",
    "        address = data[0]['display_name']\n",
    "        print(f'Latitude: {latitude}, Longitude: {longitude}')\n",
    "        print(f'Address: {address}')\n",
    "    else:\n",
    "        print('Location not found.')\n",
    "else:\n",
    "    print('API request failed.')\n"
   ]
  },
  {
   "cell_type": "code",
   "execution_count": 59,
   "metadata": {},
   "outputs": [
    {
     "name": "stdout",
     "output_type": "stream",
     "text": [
      "Latitude: 32.804767350000006, Longitude: 34.99030725\n",
      "Converting GEO to ITM\n",
      "WGS84 to ITM: North: 745576, East: 199394\n"
     ]
    }
   ],
   "source": [
    "converters = Converters()\n",
    "\n",
    "# Check if the request was successful\n",
    "if response.status_code == 200:\n",
    "    data = response.json()\n",
    "    if data:\n",
    "        # Extract the latitude and longitude from the first result\n",
    "        geolatitude = data[0]['lat']\n",
    "        geolongitude = data[0]['lon']\n",
    "        print(f'Latitude: {geolatitude}, Longitude: {geolongitude}')\n",
    "        wgs84_lat = geolatitude\n",
    "        wgs84_lon = geolongitude\n",
    "        print(f\"Converting GEO to ITM\")\n",
    "        N, E = converters.wgs842itm(float(wgs84_lat), float(wgs84_lon))        \n",
    "        print(f\"WGS84 to ITM: North: {N}, East: {E}\")\n",
    "    else:\n",
    "        print('Location not found.')\n",
    "else:\n",
    "    print('API request failed.')"
   ]
  }
 ],
 "metadata": {
  "kernelspec": {
   "display_name": "Python 3",
   "language": "python",
   "name": "python3"
  },
  "language_info": {
   "codemirror_mode": {
    "name": "ipython",
    "version": 3
   },
   "file_extension": ".py",
   "mimetype": "text/x-python",
   "name": "python",
   "nbconvert_exporter": "python",
   "pygments_lexer": "ipython3",
   "version": "3.11.6"
  }
 },
 "nbformat": 4,
 "nbformat_minor": 2
}
