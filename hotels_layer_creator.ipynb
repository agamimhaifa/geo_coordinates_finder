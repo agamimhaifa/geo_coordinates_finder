{
 "cells": [
  {
   "cell_type": "code",
   "execution_count": 8,
   "metadata": {},
   "outputs": [],
   "source": [
    "import folium\n",
    "from geo_converter import Converters \n",
    "from hotels_retreiver import get_hotels_osm ,get_hotels_csv"
   ]
  },
  {
   "cell_type": "code",
   "execution_count": 9,
   "metadata": {},
   "outputs": [
    {
     "name": "stdout",
     "output_type": "stream",
     "text": [
      "processing : ['חיפה', 'בוטיק וילה כרמל']\n",
      "processing : ['חיפה', 'עדן אין תולי,זכרון יעקב']\n",
      "processing : ['חיפה', 'דירות אירוח חיפה']\n",
      "processing : ['חיפה', 'מאריס חיפה']\n",
      "processing : ['חיפה', 'גרדן']\n",
      "processing : ['חיפה', 'בוטיק בת גלים']\n",
      "processing : ['חיפה', 'בית מימון,זכרון יעקב']\n",
      "processing : ['חיפה', 'מגדל חיפה']\n",
      "processing : ['חיפה', 'קדם טירת הכרמל']\n",
      "processing : ['חיפה', 'לאונרדו פלאזה חיפה']\n",
      "processing : ['חיפה', 'ארט גלרי']\n",
      "processing : ['חיפה', 'מיראבל']\n",
      "processing : ['חיפה', 'ניר עציון']\n",
      "processing : ['חיפה', 'מלון לואי']\n",
      "processing : ['חיפה', 'וילה כרמל בוטיק']\n",
      "processing : ['חיפה', 'מלונית המושבה הגרמנית']\n",
      "processing : ['חיפה', 'דיאנה']\n",
      "processing : ['חיפה', 'דומוס בת גלים']\n",
      "processing : ['חיפה', 'דן פנורמה']\n",
      "processing : ['חיפה', 'דן קיסריה']\n",
      "processing : ['חיפה', 'בוטניקה']\n",
      "processing : ['חיפה', 'ביי וויו']\n",
      "processing : ['חיפה', 'בוטיק וילה כרמל']\n",
      "processing : ['חיפה', 'עדן אין תולי,זכרון יעקב']\n",
      "processing : ['חיפה', 'דירות אירוח חיפה']\n",
      "processing : ['חיפה', 'מאריס חיפה']\n",
      "processing : ['חיפה', 'גרדן']\n",
      "processing : ['חיפה', 'בוטיק בת גלים']\n",
      "processing : ['חיפה', 'בית מימון,זכרון יעקב']\n",
      "processing : ['חיפה', 'מגדל חיפה']\n",
      "processing : ['חיפה', 'קדם טירת הכרמל']\n",
      "processing : ['חיפה', 'לאונרדו פלאזה חיפה']\n",
      "processing : ['חיפה', 'ארט גלרי']\n",
      "processing : ['חיפה', 'מיראבל']\n",
      "processing : ['חיפה', 'ניר עציון']\n",
      "processing : ['חיפה', 'מלון לואי']\n",
      "processing : ['חיפה', 'וילה כרמל בוטיק']\n",
      "processing : ['חיפה', 'מלונית המושבה הגרמנית']\n",
      "processing : ['חיפה', 'דיאנה']\n",
      "processing : ['חיפה', 'דומוס בת גלים']\n",
      "processing : ['חיפה', 'דן פנורמה']\n",
      "processing : ['חיפה', 'דן קיסריה']\n",
      "processing : ['חיפה', 'בוטניקה']\n",
      "processing : ['חיפה', 'ביי וויו']\n",
      "Latitude: 32.8312438, Longitude: 34.970198\n",
      "Latitude: 32.8162533, Longitude: 35.00277415860049\n",
      "Latitude: 32.6975838, Longitude: 34.9936059\n",
      "Latitude: 32.78138095, Longitude: 35.01737334435879\n",
      "Latitude: 32.80649665, Longitude: 34.98747045\n",
      "Latitude: 32.4981153, Longitude: 34.9054006960636\n"
     ]
    }
   ],
   "source": [
    "# Use this box if hotels file exists\n",
    "hotels = get_hotels_csv(filename='hotels.csv')"
   ]
  },
  {
   "cell_type": "code",
   "execution_count": null,
   "metadata": {},
   "outputs": [],
   "source": [
    "# Use this box if hotels file does not exist\n",
    "\n",
    "# Specify the bounding box coordinates (latitude and longitude)\n",
    "lat1 = 32.83268436193918\n",
    "lon1 = 34.955532887683354\n",
    "lat2 = 35.06311516001032\n",
    "lon2 = 32.75769371634262\n",
    "\n",
    "hotels = get_hotels_osm(lat1, lon1, lat2, lon2)\n"
   ]
  },
  {
   "cell_type": "code",
   "execution_count": 10,
   "metadata": {},
   "outputs": [],
   "source": [
    "# Create a map centered on the Technion Haifa Israel\n",
    "m = folium.Map(location=[32.778952131970115, 35.023318352649305], zoom_start=10)"
   ]
  },
  {
   "cell_type": "code",
   "execution_count": 11,
   "metadata": {},
   "outputs": [
    {
     "name": "stdout",
     "output_type": "stream",
     "text": [
      "Hotel: {'Name': 'רכבל סטלה מאריס', 'Latitude': '34.970198', 'Longitude': '32.8312438'}\n",
      "Converting GEO to ITM\n",
      "WGS84 to ITM: North: 988323, East: 2703\n",
      "Hotel: {'Name': 'מגדל המפרש', 'Latitude': '35.00277415860049', 'Longitude': '32.8162533'}\n",
      "Converting GEO to ITM\n",
      "WGS84 to ITM: North: 991970, East: 1420\n",
      "Hotel: {'Name': 'ניר עציון', 'Latitude': '34.9936059', 'Longitude': '32.6975838'}\n",
      "Converting GEO to ITM\n",
      "WGS84 to ITM: North: 991218, East: -9441\n",
      "Hotel: {'Name': 'בית דינה', 'Latitude': '35.01737334435879', 'Longitude': '32.78138095'}\n",
      "Converting GEO to ITM\n",
      "WGS84 to ITM: North: 993667, East: -1724\n",
      "Hotel: {'Name': 'מלון דן פנורמה', 'Latitude': '34.98747045', 'Longitude': '32.80649665'}\n",
      "Converting GEO to ITM\n",
      "WGS84 to ITM: North: 990293, East: 488\n",
      "Hotel: {'Name': 'דן קיסריה', 'Latitude': '34.9054006960636', 'Longitude': '32.4981153'}\n",
      "Converting GEO to ITM\n",
      "WGS84 to ITM: North: 981905, East: -27923\n"
     ]
    }
   ],
   "source": [
    "converters = Converters()\n",
    "\n",
    "for hotel in hotels:  \n",
    "    print(f'Hotel: {hotel}')\n",
    "    wgs84_lat = hotel[\"Latitude\"]\n",
    "    wgs84_lon = hotel[\"Longitude\"]\n",
    "    print(f\"Converting GEO to ITM\")\n",
    "    N, E = converters.wgs842itm(float(wgs84_lat), float(wgs84_lon))        \n",
    "    print(f\"WGS84 to ITM: North: {N}, East: {E}\")\n",
    "\n",
    "    hotel[\"N\"] = str(N)\n",
    "    hotel[\"E\"] = str(E)\n",
    "    hotel[\"Description\"] = 'Desc'"
   ]
  },
  {
   "cell_type": "code",
   "execution_count": 12,
   "metadata": {},
   "outputs": [
    {
     "name": "stdout",
     "output_type": "stream",
     "text": [
      "{'Name': 'רכבל סטלה מאריס', 'Latitude': '34.970198', 'Longitude': '32.8312438', 'N': '988323', 'E': '2703', 'Description': 'Desc'}\n",
      "{'Name': 'מגדל המפרש', 'Latitude': '35.00277415860049', 'Longitude': '32.8162533', 'N': '991970', 'E': '1420', 'Description': 'Desc'}\n",
      "{'Name': 'ניר עציון', 'Latitude': '34.9936059', 'Longitude': '32.6975838', 'N': '991218', 'E': '-9441', 'Description': 'Desc'}\n",
      "{'Name': 'בית דינה', 'Latitude': '35.01737334435879', 'Longitude': '32.78138095', 'N': '993667', 'E': '-1724', 'Description': 'Desc'}\n",
      "{'Name': 'מלון דן פנורמה', 'Latitude': '34.98747045', 'Longitude': '32.80649665', 'N': '990293', 'E': '488', 'Description': 'Desc'}\n",
      "{'Name': 'דן קיסריה', 'Latitude': '34.9054006960636', 'Longitude': '32.4981153', 'N': '981905', 'E': '-27923', 'Description': 'Desc'}\n"
     ]
    }
   ],
   "source": [
    "for hotel in hotels:\n",
    "    print(hotel)"
   ]
  },
  {
   "cell_type": "code",
   "execution_count": 29,
   "metadata": {},
   "outputs": [],
   "source": [
    "# Add hotel markers to the map\n",
    "for hotel in hotels:\n",
    "    location = [hotel[\"Longitude\"],hotel[\"Latitude\"]]\n",
    "    folium.Marker(\n",
    "        location=location,\n",
    "        popup=f\"<b>{hotel['Name']}</b> <br>ITM:{hotel['N']}:{hotel['N']}<br>{hotel['Description']}\",\n",
    "    ).add_to(m)\n"
   ]
  },
  {
   "cell_type": "code",
   "execution_count": 30,
   "metadata": {},
   "outputs": [],
   "source": [
    "# Save the map to an HTML file\n",
    "m.save(\"hotels_map.html\")"
   ]
  }
 ],
 "metadata": {
  "kernelspec": {
   "display_name": "venv",
   "language": "python",
   "name": "python3"
  },
  "language_info": {
   "codemirror_mode": {
    "name": "ipython",
    "version": 3
   },
   "file_extension": ".py",
   "mimetype": "text/x-python",
   "name": "python",
   "nbconvert_exporter": "python",
   "pygments_lexer": "ipython3",
   "version": "3.11.6"
  }
 },
 "nbformat": 4,
 "nbformat_minor": 2
}
