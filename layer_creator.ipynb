{
 "cells": [
  {
   "cell_type": "code",
   "execution_count": 43,
   "metadata": {},
   "outputs": [],
   "source": [
    "import csv\n",
    "import requests\n",
    "\n",
    "import folium\n",
    "from geo_converter import Converters \n"
   ]
  },
  {
   "cell_type": "code",
   "execution_count": 36,
   "metadata": {},
   "outputs": [],
   "source": [
    "responses = list()"
   ]
  },
  {
   "cell_type": "code",
   "execution_count": 37,
   "metadata": {},
   "outputs": [
    {
     "name": "stdout",
     "output_type": "stream",
     "text": [
      "processing : ['חיפה', 'בוטיק וילה כרמל']\n",
      "processing : ['חיפה', 'עדן אין תולי,זכרון יעקב']\n",
      "processing : ['חיפה', 'דירות אירוח חיפה']\n",
      "processing : ['חיפה', 'מאריס חיפה']\n",
      "processing : ['חיפה', 'גרדן']\n",
      "processing : ['חיפה', 'בוטיק בת גלים']\n",
      "processing : ['חיפה', 'בית מימון,זכרון יעקב']\n",
      "processing : ['חיפה', 'מגדל חיפה']\n",
      "processing : ['חיפה', 'קדם טירת הכרמל']\n",
      "processing : ['חיפה', 'לאונרדו פלאזה חיפה']\n",
      "processing : ['חיפה', 'ארט גלרי']\n",
      "processing : ['חיפה', 'מיראבל']\n",
      "processing : ['חיפה', 'ניר עציון']\n",
      "processing : ['חיפה', 'מלון לואי']\n",
      "processing : ['חיפה', 'וילה כרמל בוטיק']\n",
      "processing : ['חיפה', 'מלונית המושבה הגרמנית']\n",
      "processing : ['חיפה', 'דיאנה']\n",
      "processing : ['חיפה', 'דומוס בת גלים']\n",
      "processing : ['חיפה', 'דן פנורמה']\n",
      "processing : ['חיפה', 'דן קיסריה']\n",
      "processing : ['חיפה', 'בוטניקה']\n",
      "processing : ['חיפה', 'ביי וויו']\n"
     ]
    }
   ],
   "source": [
    "# Specify the path to your CSV file\n",
    "csv_file = 'hotels.csv'\n",
    "\n",
    "# Open and read the CSV file\n",
    "with open(csv_file, 'r') as file:\n",
    "    csv_reader = csv.reader(file)\n",
    "\n",
    "    # Skip the header row (first row)\n",
    "    next(csv_reader)    \n",
    "\n",
    "    # Iterate through each row in the CSV\n",
    "    for row in csv_reader:\n",
    "        # Each row is a list of values\n",
    "        # You can access specific columns using indexing (e.g., row[0], row[1])\n",
    "        print('processing :' , row)\n",
    "        hotel_city, addr_name = row\n",
    "        # Make the API request to Nominatim\n",
    "        base_url = \"https://nominatim.openstreetmap.org/search\"\n",
    "        params = {\n",
    "            \"q\": addr_name + ' ' + hotel_city,\n",
    "            \"format\": \"json\"\n",
    "        }\n",
    "\n",
    "        response = requests.get(base_url, params=params)\n",
    "        # Check if the request was successful\n",
    "        if response.status_code == 200:\n",
    "            data = response.json()\n",
    "            if len(data) > 0:\n",
    "                # Create a copy of the response object\n",
    "                responses.append(data)\n",
    "        else:\n",
    "            print(f\"Original request failed with status code {response.status_code}\")\n"
   ]
  },
  {
   "cell_type": "code",
   "execution_count": 39,
   "metadata": {},
   "outputs": [
    {
     "name": "stdout",
     "output_type": "stream",
     "text": [
      "[{'place_id': 218115003, 'licence': 'Data © OpenStreetMap contributors, ODbL 1.0. http://osm.org/copyright', 'osm_type': 'way', 'osm_id': 35221726, 'lat': '32.8312438', 'lon': '34.970198', 'class': 'aerialway', 'type': 'cable_car', 'place_rank': 30, 'importance': 0.38719117310917234, 'addresstype': 'aerialway', 'name': 'רכבל סטלה מאריס', 'display_name': 'רכבל סטלה מאריס, העליה השניה, בת גלים, רובע מערב חיפה, חיפה, נפת חיפה, מחוז חיפה, 3501321, ישראל', 'boundingbox': ['32.8280527', '32.8312438', '34.9699993', '34.9701980']}, {'place_id': 217924058, 'licence': 'Data © OpenStreetMap contributors, ODbL 1.0. http://osm.org/copyright', 'osm_type': 'relation', 'osm_id': 14265257, 'lat': '32.82721815', 'lon': '34.970077286837224', 'class': 'building', 'type': 'yes', 'place_rank': 30, 'importance': 0.30186561861302313, 'addresstype': 'building', 'name': 'מנזר סטלה מאריס', 'display_name': 'מנזר סטלה מאריס, סטלה מאריס, כרמל צרפתי, רובע הכרמל, חיפה, נפת חיפה, מחוז חיפה, 3551319, ישראל', 'boundingbox': ['32.8268106', '32.8276180', '34.9696096', '34.9707273']}, {'place_id': 218962687, 'licence': 'Data © OpenStreetMap contributors, ODbL 1.0. http://osm.org/copyright', 'osm_type': 'way', 'osm_id': 179233862, 'lat': '32.82831305', 'lon': '34.96908697682333', 'class': 'man_made', 'type': 'lighthouse', 'place_rank': 30, 'importance': 0.25727750335362226, 'addresstype': 'man_made', 'name': 'מגדלור סטלה מאריס', 'display_name': 'מגדלור סטלה מאריס, סטלה מאריס, כרמל צרפתי, רובע הכרמל, חיפה, נפת חיפה, מחוז חיפה, 3559134, ישראל', 'boundingbox': ['32.8281934', '32.8284825', '34.9688948', '34.9692918']}, {'place_id': 217752284, 'licence': 'Data © OpenStreetMap contributors, ODbL 1.0. http://osm.org/copyright', 'osm_type': 'way', 'osm_id': 201157471, 'lat': '32.8261052', 'lon': '34.9688087', 'class': 'highway', 'type': 'tertiary', 'place_rank': 26, 'importance': 0.10000999999999993, 'addresstype': 'road', 'name': 'סטלה מאריס', 'display_name': 'סטלה מאריס, כרמל צרפתי, רובע הכרמל, חיפה, נפת חיפה, מחוז חיפה, 3559134, ישראל', 'boundingbox': ['32.8258900', '32.8262971', '34.9688025', '34.9688947']}, {'place_id': 218964387, 'licence': 'Data © OpenStreetMap contributors, ODbL 1.0. http://osm.org/copyright', 'osm_type': 'way', 'osm_id': 936491680, 'lat': '32.8209621', 'lon': '34.9795188', 'class': 'highway', 'type': 'tertiary', 'place_rank': 26, 'importance': 0.10000999999999993, 'addresstype': 'road', 'name': 'סטלה מאריס', 'display_name': 'סטלה מאריס, حي عباس, קריית אליעזר, רובע מערב חיפה, חיפה, נפת חיפה, מחוז חיפה, 3551319, ישראל', 'boundingbox': ['32.8206364', '32.8211199', '34.9793385', '34.9798257']}, {'place_id': 218585983, 'licence': 'Data © OpenStreetMap contributors, ODbL 1.0. http://osm.org/copyright', 'osm_type': 'way', 'osm_id': 1123351177, 'lat': '32.820105', 'lon': '34.9805147', 'class': 'highway', 'type': 'tertiary', 'place_rank': 26, 'importance': 0.10000999999999993, 'addresstype': 'road', 'name': 'סטלה מאריס', 'display_name': 'סטלה מאריס, حي عباس, רובע הדר, חיפה, נפת חיפה, מחוז חיפה, 3551319, ישראל', 'boundingbox': ['32.8201050', '32.8202846', '34.9801927', '34.9805147']}, {'place_id': 218172124, 'licence': 'Data © OpenStreetMap contributors, ODbL 1.0. http://osm.org/copyright', 'osm_type': 'way', 'osm_id': 28093659, 'lat': '32.8188622', 'lon': '34.9850341', 'class': 'highway', 'type': 'tertiary', 'place_rank': 26, 'importance': 0.10000999999999993, 'addresstype': 'road', 'name': 'סטלה מאריס', 'display_name': 'סטלה מאריס, קריית אליעזר, רובע מערב חיפה, חיפה, נפת חיפה, מחוז חיפה, 3551319, ישראל', 'boundingbox': ['32.8188036', '32.8188622', '34.9849916', '34.9850341']}, {'place_id': 219508876, 'licence': 'Data © OpenStreetMap contributors, ODbL 1.0. http://osm.org/copyright', 'osm_type': 'way', 'osm_id': 1121200314, 'lat': '32.8190892', 'lon': '34.9823881', 'class': 'highway', 'type': 'tertiary', 'place_rank': 26, 'importance': 0.10000999999999993, 'addresstype': 'road', 'name': 'סטלה מאריס', 'display_name': 'סטלה מאריס, حي عباس, רובע הדר, רובע מערב חיפה, חיפה, נפת חיפה, מחוז חיפה, 3551319, ישראל', 'boundingbox': ['32.8186842', '32.8201050', '34.9805147', '34.9848186']}, {'place_id': 221332944, 'licence': 'Data © OpenStreetMap contributors, ODbL 1.0. http://osm.org/copyright', 'osm_type': 'way', 'osm_id': 936491681, 'lat': '32.8235284', 'lon': '34.9772952', 'class': 'highway', 'type': 'tertiary', 'place_rank': 26, 'importance': 0.10000999999999993, 'addresstype': 'road', 'name': 'סטלה מאריס', 'display_name': 'סטלה מאריס, כרמל צרפתי, רובע הכרמל, חיפה, נפת חיפה, מחוז חיפה, 3551319, ישראל', 'boundingbox': ['32.8211199', '32.8254509', '34.9747101', '34.9793385']}]\n",
      "[{'place_id': 219557228, 'licence': 'Data © OpenStreetMap contributors, ODbL 1.0. http://osm.org/copyright', 'osm_type': 'way', 'osm_id': 605918311, 'lat': '32.8162533', 'lon': '35.00277415860049', 'class': 'building', 'type': 'commercial', 'place_rank': 30, 'importance': 0.2850481715152184, 'addresstype': 'building', 'name': 'מגדל המפרש', 'display_name': 'מגדל המפרש, 36, נתנזון, קריית הממשלה ע\"ש רבין, רובע העיר התחתית, חיפה, נפת חיפה, מחוז חיפה, 3341231, ישראל', 'boundingbox': ['32.8161114', '32.8164119', '35.0025628', '35.0029891']}, {'place_id': 218035579, 'licence': 'Data © OpenStreetMap contributors, ODbL 1.0. http://osm.org/copyright', 'osm_type': 'way', 'osm_id': 605874938, 'lat': '32.78785285', 'lon': '34.96565267465318', 'class': 'building', 'type': 'yes', 'place_rank': 30, 'importance': 0.24809208301809357, 'addresstype': 'building', 'name': 'מגדל חברת החשמל', 'display_name': 'מגדל חברת החשמל, 1, נתיב האור, נאות פרס, רובע מערב חיפה, חיפה, נפת חיפה, מחוז חיפה, 3508508, ישראל', 'boundingbox': ['32.7875788', '32.7881301', '34.9655220', '34.9657835']}, {'place_id': 219130064, 'licence': 'Data © OpenStreetMap contributors, ODbL 1.0. http://osm.org/copyright', 'osm_type': 'way', 'osm_id': 91057495, 'lat': '32.76282845', 'lon': '35.017683802667975', 'class': 'building', 'type': 'university', 'place_rank': 30, 'importance': 0.24352463088163046, 'addresstype': 'building', 'name': 'מגדל אשכול', 'display_name': 'מגדל אשכול, אבא חושי, רמת אלמוגי, רובע רמות הכרמל, חיפה, נפת חיפה, מחוז חיפה, 3498838, ישראל', 'boundingbox': ['32.7626593', '32.7629975', '35.0174853', '35.0178823']}, {'place_id': 218494888, 'licence': 'Data © OpenStreetMap contributors, ODbL 1.0. http://osm.org/copyright', 'osm_type': 'node', 'osm_id': 1803008372, 'lat': '32.815092', 'lon': '35.065232', 'class': 'highway', 'type': 'bus_stop', 'place_rank': 30, 'importance': 9.99999999995449e-06, 'addresstype': 'highway', 'name': 'דנינו /יוסף לוי מגדל אור', 'display_name': 'דנינו /יוסף לוי מגדל אור, אברהם דנינו, רובע מפרץ חיפה, חיפה, נפת חיפה, מחוז חיפה, 2630050, ישראל', 'boundingbox': ['32.8150420', '32.8151420', '35.0651820', '35.0652820']}, {'place_id': 217705566, 'licence': 'Data © OpenStreetMap contributors, ODbL 1.0. http://osm.org/copyright', 'osm_type': 'node', 'osm_id': 1802986072, 'lat': '32.7620262', 'lon': '35.0183805', 'class': 'highway', 'type': 'bus_stop', 'place_rank': 30, 'importance': 9.99999999995449e-06, 'addresstype': 'highway', 'name': 'אוניברסיטה/מגדל אשכול', 'display_name': 'אוניברסיטה/מגדל אשכול, אבא חושי, רמת אלמוגי, רובע רמות הכרמל, חיפה, נפת חיפה, מחוז חיפה, 3498838, ישראל', 'boundingbox': ['32.7619762', '32.7620762', '35.0183305', '35.0184305']}, {'place_id': 217670646, 'licence': 'Data © OpenStreetMap contributors, ODbL 1.0. http://osm.org/copyright', 'osm_type': 'way', 'osm_id': 91057494, 'lat': '32.806045999999995', 'lon': '34.9876111', 'class': 'tourism', 'type': 'hotel', 'place_rank': 30, 'importance': 9.99999999995449e-06, 'addresstype': 'tourism', 'name': 'מגדל פנורמה', 'display_name': 'מגדל פנורמה, 111, שדרות הנשיא, מרכז הכרמל, רובע הכרמל, חיפה, נפת חיפה, מחוז חיפה, 3463626, ישראל', 'boundingbox': ['32.8058886', '32.8062034', '34.9874359', '34.9877863']}, {'place_id': 218678769, 'licence': 'Data © OpenStreetMap contributors, ODbL 1.0. http://osm.org/copyright', 'osm_type': 'way', 'osm_id': 665870842, 'lat': '32.8060769', 'lon': '34.956810453335535', 'class': 'building', 'type': 'hotel', 'place_rank': 30, 'importance': 9.99999999995449e-06, 'addresstype': 'building', 'name': 'מגדל הים מלון דירות - בניין אלמוג', 'display_name': 'מגדל הים מלון דירות - בניין אלמוג, 10, דוד אלעזר, רמת הנשיא, רובע מערב חיפה, חיפה, נפת חיפה, מחוז חיפה, 3508107, ישראל', 'boundingbox': ['32.8054593', '32.8066969', '34.9565156', '34.9569036']}, {'place_id': 218479101, 'licence': 'Data © OpenStreetMap contributors, ODbL 1.0. http://osm.org/copyright', 'osm_type': 'node', 'osm_id': 1803043600, 'lat': '32.815104', 'lon': '35.06571', 'class': 'highway', 'type': 'bus_stop', 'place_rank': 30, 'importance': 9.99999999995449e-06, 'addresstype': 'highway', 'name': 'יוסף לוי/דנינו מגדל אור', 'display_name': 'יוסף לוי/דנינו מגדל אור, יוסף לוי, רובע מפרץ חיפה, חיפה, נפת חיפה, מחוז חיפה, 2630050, ישראל', 'boundingbox': ['32.8150540', '32.8151540', '35.0656600', '35.0657600']}, {'place_id': 218123910, 'licence': 'Data © OpenStreetMap contributors, ODbL 1.0. http://osm.org/copyright', 'osm_type': 'way', 'osm_id': 90834401, 'lat': '32.80617195', 'lon': '34.9566845496031', 'class': 'tourism', 'type': 'hotel', 'place_rank': 30, 'importance': 9.99999999995449e-06, 'addresstype': 'tourism', 'name': 'מגדלי חוף הכרמל - בנין אלמוג', 'display_name': 'מגדלי חוף הכרמל - בנין אלמוג, 10, דוד אלעזר, רמת הנשיא, רובע מערב חיפה, חיפה, נפת חיפה, מחוז חיפה, 3508107, ישראל', 'boundingbox': ['32.8054007', '32.8070949', '34.9563740', '34.9569941']}]\n",
      "[{'place_id': 217238290, 'licence': 'Data © OpenStreetMap contributors, ODbL 1.0. http://osm.org/copyright', 'osm_type': 'way', 'osm_id': 142058780, 'lat': '32.6975838', 'lon': '34.9936059', 'class': 'place', 'type': 'village', 'place_rank': 19, 'importance': 0.3592519042250443, 'addresstype': 'village', 'name': 'ניר עציון', 'display_name': 'ניר עציון, מועצה אזורית חוף הכרמל, נפת חדרה, מחוז חיפה, ישראל', 'boundingbox': ['32.6951828', '32.7003655', '34.9872058', '34.9971514']}]\n",
      "[{'place_id': 218291328, 'licence': 'Data © OpenStreetMap contributors, ODbL 1.0. http://osm.org/copyright', 'osm_type': 'way', 'osm_id': 100875361, 'lat': '32.78138095', 'lon': '35.01737334435879', 'class': 'amenity', 'type': 'social_facility', 'place_rank': 30, 'importance': 9.99999999995449e-06, 'addresstype': 'amenity', 'name': 'בית דינה', 'display_name': 'בית דינה, שביל מעלות ישכיל, זיו, רובע רמות נווה שאנן, חיפה, נפת חיפה, מחוז חיפה, 3271319, ישראל', 'boundingbox': ['32.7811493', '32.7815455', '35.0170043', '35.0177466']}]\n",
      "[{'place_id': 217890818, 'licence': 'Data © OpenStreetMap contributors, ODbL 1.0. http://osm.org/copyright', 'osm_type': 'way', 'osm_id': 91057496, 'lat': '32.80649665', 'lon': '34.98747045', 'class': 'tourism', 'type': 'hotel', 'place_rank': 30, 'importance': 9.99999999995449e-06, 'addresstype': 'tourism', 'name': 'מלון דן פנורמה', 'display_name': 'מלון דן פנורמה, שדרות הנשיא, מרכז הכרמל, רובע הכרמל, חיפה, נפת חיפה, מחוז חיפה, 3463626, ישראל', 'boundingbox': ['32.8063386', '32.8066547', '34.9872890', '34.9876519']}]\n",
      "[{'place_id': 218845755, 'licence': 'Data © OpenStreetMap contributors, ODbL 1.0. http://osm.org/copyright', 'osm_type': 'way', 'osm_id': 740111285, 'lat': '32.4981153', 'lon': '34.9054006960636', 'class': 'tourism', 'type': 'hotel', 'place_rank': 30, 'importance': 9.99999999995449e-06, 'addresstype': 'tourism', 'name': 'דן קיסריה', 'display_name': 'דן קיסריה, מלון דן קיסריה, קיסריה, מועצה אזורית חוף הכרמל, נפת חדרה, מחוז חיפה, 3056502, ישראל', 'boundingbox': ['32.4976375', '32.4986149', '34.9050954', '34.9058977']}]\n"
     ]
    }
   ],
   "source": [
    "for data in responses:  \n",
    "    print(data)"
   ]
  },
  {
   "cell_type": "code",
   "execution_count": 40,
   "metadata": {},
   "outputs": [],
   "source": [
    "# Create a map centered on the Technion Haifa Israel\n",
    "m = folium.Map(location=[32.778952131970115, 35.023318352649305], zoom_start=10)\n"
   ]
  },
  {
   "cell_type": "code",
   "execution_count": 51,
   "metadata": {},
   "outputs": [],
   "source": [
    "hotels = []"
   ]
  },
  {
   "cell_type": "code",
   "execution_count": 52,
   "metadata": {},
   "outputs": [
    {
     "name": "stdout",
     "output_type": "stream",
     "text": [
      "Latitude: 32.8312438, Longitude: 34.970198\n",
      "Converting GEO to ITM\n",
      "WGS84 to ITM: North: 748516, East: 197517\n",
      "Latitude: 32.8162533, Longitude: 35.00277415860049\n",
      "Converting GEO to ITM\n",
      "WGS84 to ITM: North: 746848, East: 200564\n",
      "Latitude: 32.6975838, Longitude: 34.9936059\n",
      "Converting GEO to ITM\n",
      "WGS84 to ITM: North: 733689, East: 199679\n",
      "Latitude: 32.78138095, Longitude: 35.01737334435879\n",
      "Converting GEO to ITM\n",
      "WGS84 to ITM: North: 742978, East: 201925\n",
      "Latitude: 32.80649665, Longitude: 34.98747045\n",
      "Converting GEO to ITM\n",
      "WGS84 to ITM: North: 745768, East: 199129\n",
      "Latitude: 32.4981153, Longitude: 34.9054006960636\n",
      "Converting GEO to ITM\n",
      "WGS84 to ITM: North: 711588, East: 191346\n"
     ]
    }
   ],
   "source": [
    "converters = Converters()\n",
    "\n",
    "for data in responses:  \n",
    "    # Extract the latitude and longitude from the first result\n",
    "    name = data[0]['name']\n",
    "    display_name = data[0]['display_name']\n",
    "    geolatitude = data[0]['lat']\n",
    "    geolongitude = data[0]['lon']\n",
    "    print(f'Latitude: {geolatitude}, Longitude: {geolongitude}')\n",
    "    wgs84_lat = geolatitude\n",
    "    wgs84_lon = geolongitude\n",
    "    print(f\"Converting GEO to ITM\")\n",
    "    N, E = converters.wgs842itm(float(wgs84_lat), float(wgs84_lon))        \n",
    "    print(f\"WGS84 to ITM: North: {N}, East: {E}\")\n",
    "    hotel = dict()\n",
    "    hotel[\"name\"] = name\n",
    "    hotel[\"location\"] = [geolatitude, geolongitude]\n",
    "    hotel[\"description\"] = 'N:' + str(N) + 'E:' + str(E) + 'Description' + display_name\n",
    "    hotels.append(hotel)"
   ]
  },
  {
   "cell_type": "code",
   "execution_count": 53,
   "metadata": {},
   "outputs": [
    {
     "name": "stdout",
     "output_type": "stream",
     "text": [
      "{'name': 'רכבל סטלה מאריס', 'location': [748516, 197517], 'description': 'display_name'}\n",
      "{'name': 'מגדל המפרש', 'location': [746848, 200564], 'description': 'display_name'}\n",
      "{'name': 'ניר עציון', 'location': [733689, 199679], 'description': 'display_name'}\n",
      "{'name': 'בית דינה', 'location': [742978, 201925], 'description': 'display_name'}\n",
      "{'name': 'מלון דן פנורמה', 'location': [745768, 199129], 'description': 'display_name'}\n",
      "{'name': 'דן קיסריה', 'location': [711588, 191346], 'description': 'display_name'}\n"
     ]
    }
   ],
   "source": [
    "for hotel in hotels:\n",
    "    print(hotel)"
   ]
  },
  {
   "cell_type": "code",
   "execution_count": 54,
   "metadata": {},
   "outputs": [],
   "source": [
    "# Add hotel markers to the map\n",
    "for hotel in hotels:\n",
    "    folium.Marker(\n",
    "        location=hotel[\"location\"],\n",
    "        popup=f\"<b>{hotel['name']}</b><br>{hotel['description']}\",\n",
    "    ).add_to(m)\n",
    "\n"
   ]
  },
  {
   "cell_type": "code",
   "execution_count": 55,
   "metadata": {},
   "outputs": [],
   "source": [
    "# Save the map to an HTML file\n",
    "m.save(\"hotels_map.html\")"
   ]
  }
 ],
 "metadata": {
  "kernelspec": {
   "display_name": "venv",
   "language": "python",
   "name": "python3"
  },
  "language_info": {
   "codemirror_mode": {
    "name": "ipython",
    "version": 3
   },
   "file_extension": ".py",
   "mimetype": "text/x-python",
   "name": "python",
   "nbconvert_exporter": "python",
   "pygments_lexer": "ipython3",
   "version": "3.11.6"
  }
 },
 "nbformat": 4,
 "nbformat_minor": 2
}
