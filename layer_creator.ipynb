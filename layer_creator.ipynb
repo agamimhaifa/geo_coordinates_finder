{
 "cells": [
  {
   "cell_type": "code",
   "execution_count": 1,
   "metadata": {},
   "outputs": [],
   "source": [
    "import folium\n",
    "\n",
    "\n"
   ]
  },
  {
   "cell_type": "code",
   "execution_count": 2,
   "metadata": {},
   "outputs": [],
   "source": [
    "# Create a map centered on New York City\n",
    "m = folium.Map(location=[40.7128, -74.0060], zoom_start=12)\n",
    "\n"
   ]
  },
  {
   "cell_type": "code",
   "execution_count": 3,
   "metadata": {},
   "outputs": [],
   "source": [
    "# Define a list of hotels with their names, locations (latitude and longitude), and descriptions\n",
    "hotels = [\n",
    "    {\"name\": \"Hotel A\", \"location\": [40.730610, -73.935242], \"description\": \"A luxury hotel in Manhattan.\"},\n",
    "    {\"name\": \"Hotel B\", \"location\": [40.751660, -73.990376], \"description\": \"Affordable downtown hotel.\"},\n",
    "    {\"name\": \"Hotel C\", \"location\": [40.764937, -73.988888], \"description\": \"Boutique hotel in Midtown.\"},\n",
    "    {\"name\": \"Hotel D\", \"location\": [40.711232, -74.005618], \"description\": \"Historic hotel near Financial District.\"},\n",
    "]\n",
    "\n"
   ]
  },
  {
   "cell_type": "code",
   "execution_count": 4,
   "metadata": {},
   "outputs": [],
   "source": [
    "# Add hotel markers to the map\n",
    "for hotel in hotels:\n",
    "    folium.Marker(\n",
    "        location=hotel[\"location\"],\n",
    "        popup=f\"<b>{hotel['name']}</b><br>{hotel['description']}\",\n",
    "    ).add_to(m)\n",
    "\n"
   ]
  },
  {
   "cell_type": "code",
   "execution_count": 5,
   "metadata": {},
   "outputs": [],
   "source": [
    "# Save the map to an HTML file\n",
    "m.save(\"hotels_map.html\")"
   ]
  }
 ],
 "metadata": {
  "kernelspec": {
   "display_name": "venv",
   "language": "python",
   "name": "python3"
  },
  "language_info": {
   "codemirror_mode": {
    "name": "ipython",
    "version": 3
   },
   "file_extension": ".py",
   "mimetype": "text/x-python",
   "name": "python",
   "nbconvert_exporter": "python",
   "pygments_lexer": "ipython3",
   "version": "3.11.6"
  }
 },
 "nbformat": 4,
 "nbformat_minor": 2
}
